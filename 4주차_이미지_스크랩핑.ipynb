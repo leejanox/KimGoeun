{
  "nbformat": 4,
  "nbformat_minor": 0,
  "metadata": {
    "colab": {
      "provenance": [],
      "authorship_tag": "ABX9TyO6HJFGRg4J6WQ+Wbuq9KLa",
      "include_colab_link": true
    },
    "kernelspec": {
      "name": "python3",
      "display_name": "Python 3"
    },
    "language_info": {
      "name": "python"
    }
  },
  "cells": [
    {
      "cell_type": "markdown",
      "metadata": {
        "id": "view-in-github",
        "colab_type": "text"
      },
      "source": [
        "<a href=\"https://colab.research.google.com/github/leejanox/KimGoeun/blob/main/4%EC%A3%BC%EC%B0%A8_%EC%9D%B4%EB%AF%B8%EC%A7%80_%EC%8A%A4%ED%81%AC%EB%9E%A9%ED%95%91.ipynb\" target=\"_parent\"><img src=\"https://colab.research.google.com/assets/colab-badge.svg\" alt=\"Open In Colab\"/></a>"
      ]
    },
    {
      "cell_type": "code",
      "execution_count": 1,
      "metadata": {
        "colab": {
          "base_uri": "https://localhost:8080/"
        },
        "id": "0eVfo8dD5_nS",
        "outputId": "dd138852-a171-4f7f-f77e-69fb065cc7bc"
      },
      "outputs": [
        {
          "output_type": "stream",
          "name": "stdout",
          "text": [
            "Collecting bing-image-downloader\n",
            "  Downloading bing_image_downloader-1.1.2-py3-none-any.whl (5.9 kB)\n",
            "Installing collected packages: bing-image-downloader\n",
            "Successfully installed bing-image-downloader-1.1.2\n"
          ]
        }
      ],
      "source": [
        "!pip install bing-image-downloader"
      ]
    },
    {
      "cell_type": "code",
      "source": [
        "from bing_image_downloader import downloader # bing_image_downloader 모듈에서 downloader를 가져옴\n",
        "\n",
        "from pathlib import Path # pathlib 모듈에서 Path를 가져옴\n",
        "\n",
        "\n",
        "def download_images(keyword, num_images, file_name):\n",
        "\n",
        "  output_directory = \"images\" # 이미지를 저장할 폴더 이름\n",
        "\n",
        "\n",
        "  downloader.download(keyword, limit=num_images, output_dir=output_directory, adult_filter_off=True, force_replace=False, timeout=60)\n",
        "    # 이미지 다운로드\n",
        "\n",
        "\n",
        "\n",
        "  root = Path().cwd() / output_directory # 이미지 저장 폴더의 경로\n",
        "\n",
        "  downloaded_files = list(root.glob(\"*.*\")) # 폴더 내 모든 파일 가져오기\n",
        "\n",
        "  for i, file in enumerate(downloaded_files): # 다운로드된 각 파일에 대해 반복\n",
        "\n",
        "    extension = file.suffix # 파일 확장자\n",
        "\n",
        "    new_file_name = f\"{file_name}{i+1}{extension}\" # 새로운 파일 이름\n",
        "\n",
        "    new_file_path = root / new_file_name # 새로운 파일 경로\n",
        "\n",
        "    file.rename(new_file_path) # 파일 이름 변경\n"
      ],
      "metadata": {
        "id": "O13NQdIO68wJ"
      },
      "execution_count": 2,
      "outputs": []
    },
    {
      "cell_type": "code",
      "source": [
        "keyword = \"핫식스 더킹 포스\" # 이미지 검색 키워드\n",
        "\n",
        "num_images = 30 # 다운로드할 이미지 수\n",
        "\n",
        "file_name = \"핫식스 더킹 포스\" # 파일 이름\n",
        "\n",
        "\n",
        "keyword = \"핫식스 더킹 제로\" # 이미지 검색 키워드\n",
        "\n",
        "num_images = 30 # 다운로드할 이미지 수\n",
        "\n",
        "file_name = \"핫식스 더킹 제로\" # 파일 이름"
      ],
      "metadata": {
        "id": "pyLphdwE7fl5"
      },
      "execution_count": 3,
      "outputs": []
    },
    {
      "cell_type": "code",
      "source": [
        "from google.colab import drive\n",
        "drive.mount('/content/drive')"
      ],
      "metadata": {
        "colab": {
          "base_uri": "https://localhost:8080/"
        },
        "id": "nJbL12Wd7nmp",
        "outputId": "262c9324-3674-475f-a1e3-877d35634aa9"
      },
      "execution_count": 6,
      "outputs": [
        {
          "output_type": "stream",
          "name": "stdout",
          "text": [
            "Mounted at /content/drive\n"
          ]
        }
      ]
    },
    {
      "cell_type": "code",
      "source": [
        "download_images(keyword, num_images, file_name) # 이미지 다운로드"
      ],
      "metadata": {
        "colab": {
          "base_uri": "https://localhost:8080/"
        },
        "id": "SVqIwkGo7-2F",
        "outputId": "94fb0dc2-c11a-4ec1-8ff3-bbe3b9db46b4"
      },
      "execution_count": 7,
      "outputs": [
        {
          "output_type": "stream",
          "name": "stdout",
          "text": [
            "[%] Downloading Images to /content/images/핫식스 더킹 제로\n",
            "\n",
            "\n",
            "[!!]Indexing page: 1\n",
            "\n",
            "[%] Indexed 30 Images on Page 1.\n",
            "\n",
            "===============================================\n",
            "\n",
            "[%] Downloading Image #1 from https://img.asiatoday.co.kr/file/2022y/06m/09d/2022060901000712300041411.jpg\n",
            "[%] File Downloaded !\n",
            "\n",
            "[%] Downloading Image #2 from https://image.homeplus.kr/td/36279bec-5747-4379-acd3-5cc6c3fc6b42\n",
            "[%] File Downloaded !\n",
            "\n",
            "[%] Downloading Image #3 from http://th3.tmon.kr/thumbs/image/256/698/d1b/8a6befb1d_700x700_95_FIT.jpg\n",
            "[%] File Downloaded !\n",
            "\n",
            "[%] Downloading Image #4 from http://image.enuri.info/webimage_300/13332300000/13332320000/13332325784\n",
            "[%] File Downloaded !\n",
            "\n",
            "[%] Downloading Image #5 from http://www.finomy.com/news/photo/202305/129961_107015_1155.jpg\n",
            "[%] File Downloaded !\n",
            "\n",
            "[%] Downloading Image #6 from http://th4.tmon.kr/thumbs/image/32a/201/858/ce9f3722d_700x700_95_FIT.jpg\n",
            "[%] File Downloaded !\n",
            "\n",
            "[%] Downloading Image #7 from https://thumb.ad.co.kr/article/54/14/2c/fb/i/542971-6.png\n",
            "[%] File Downloaded !\n",
            "\n",
            "[%] Downloading Image #8 from http://img4.tmon.kr/cdn4/deals/2022/06/09/6828299370/6828299370_front_48b513aff5.jpg\n",
            "[%] File Downloaded !\n",
            "\n",
            "[%] Downloading Image #9 from https://cdn.ppomppu.co.kr/zboard/data3/2022/0907/20220907010131_bEfT9o5CKx.png\n",
            "[%] File Downloaded !\n",
            "\n",
            "[%] Downloading Image #10 from https://image.enuri.info/webimage_300/16913900000/16913940000/16913940319\n",
            "[%] File Downloaded !\n",
            "\n",
            "[%] Downloading Image #11 from https://shopping-phinf.pstatic.net/main_8180433/81804338160.jpg\n",
            "[%] File Downloaded !\n",
            "\n",
            "[%] Downloading Image #12 from http://ai.esmplus.com/coffeemall/list/mid/LT0032.jpg\n",
            "[%] File Downloaded !\n",
            "\n",
            "[%] Downloading Image #13 from https://image.homeplus.kr/td/7d6e480c-7b8c-4368-99e9-23e3822731a6\n",
            "[%] File Downloaded !\n",
            "\n",
            "[%] Downloading Image #14 from https://static.megamart.com/product/image/1315/13150921/13150921_1_960.jpg\n",
            "[%] File Downloaded !\n",
            "\n",
            "[%] Downloading Image #15 from https://img1.daumcdn.net/thumb/S1200x630/?fname=https://t1.daumcdn.net/news/202206/09/akn/20220609092344100pxxx.jpg\n",
            "[%] File Downloaded !\n",
            "\n",
            "[%] Downloading Image #16 from http://th4.tmon.kr/thumbs/image/ccf/40d/cc9/911cad19c_700x700_95_FIT.jpg\n",
            "[%] File Downloaded !\n",
            "\n",
            "[%] Downloading Image #17 from https://image.fmkorea.com/files/attach/new2/20220718/1196365581/2679894278/4829212695/99b983892094b5c6d2fc3736e15da7d1.jpg\n",
            "[%] File Downloaded !\n",
            "\n",
            "[%] Downloading Image #18 from https://image.homeplus.kr/td/a063faff-094a-41ed-ba9a-c11c5f4a80b8\n",
            "[%] File Downloaded !\n",
            "\n",
            "[%] Downloading Image #19 from https://static.megamart.com/product/image/1315/13150921/13150921_6_960.jpg\n",
            "[%] File Downloaded !\n",
            "\n",
            "[%] Downloading Image #20 from https://www.fetv.co.kr/data/photos/20220623/art_16547341521645_3fd821.jpg\n",
            "[%] File Downloaded !\n",
            "\n",
            "[%] Downloading Image #21 from http://img2.tmon.kr/cdn4/deals/2022/07/07/8564516554/8564516554_intro_eHZucZk5MU.jpg\n",
            "[%] File Downloaded !\n",
            "\n",
            "[%] Downloading Image #22 from https://gumitalk.com/data/editor/2209/3232235521_nPM2zDxw_b53e463a8790527f88ad458ff18020f6c9a59955.jpg\n",
            "[%] File Downloaded !\n",
            "\n",
            "[%] Downloading Image #23 from https://image.homeplus.kr/td/56b697cc-2f90-465e-9063-b3ac6e82c816\n",
            "[%] File Downloaded !\n",
            "\n",
            "[%] Downloading Image #24 from https://thumbnail8.coupangcdn.com/thumbnails/remote/700x700ex/image/vendor_inventory/fdd6/f857173b02e858d19fae9fda96e01607e26f789b9011478ea951977b0aae.jpg\n",
            "[%] File Downloaded !\n",
            "\n",
            "[%] Downloading Image #25 from https://blogthumb.pstatic.net/MjAyMTA4MDlfMTkg/MDAxNjI4NDM1NzE1OTQw.tB2UzFSvCTerN_CjOuWGZIDyE32CnF-AZAXx-VR0SY4g.1VXeb6PY_p5HWebNwzEDiB0RU81lz_4pioWZ2TM1QxUg.JPEG.ilsan9924/IMG_1018.jpg?type=w2\n",
            "[%] File Downloaded !\n",
            "\n",
            "[%] Downloading Image #26 from http://image3.compuzone.co.kr/img/product_img/2023/0118/985692/985692_600.jpg\n",
            "[%] File Downloaded !\n",
            "\n",
            "[%] Downloading Image #27 from https://image.fmkorea.com/files/attach/new2/20220718/1196365581/2679894278/4829212695/3510c873ae1dbc826d375744610776c2.jpg\n",
            "[%] File Downloaded !\n",
            "\n",
            "[%] Downloading Image #28 from https://image.homeplus.kr/td/690de135-a1d8-444e-94fa-fd8a31c29632\n",
            "[%] File Downloaded !\n",
            "\n",
            "[%] Downloading Image #29 from http://gdimg.gmarket.co.kr/2417813568/still/600?ver=1657272680\n",
            "[%] File Downloaded !\n",
            "\n",
            "[%] Downloading Image #30 from https://i.ytimg.com/vi/_9V1KdLWAsg/maxresdefault.jpg\n",
            "[%] File Downloaded !\n",
            "\n",
            "\n",
            "\n",
            "[%] Done. Downloaded 30 images.\n"
          ]
        }
      ]
    },
    {
      "cell_type": "code",
      "source": [
        "import shutil\n",
        "\n",
        "def compress_folder(folder_path, output_path):\n",
        "  shutil.make_archive(output_path, 'zip', folder_path)\n",
        "\n",
        "# 이미지 저장 폴더 압축\n",
        "folder_path = \"images\"\n",
        "output_path = \"images\"\n",
        "compress_folder(folder_path, output_path)"
      ],
      "metadata": {
        "id": "HxT-uqLI-q5S"
      },
      "execution_count": 22,
      "outputs": []
    },
    {
      "cell_type": "code",
      "source": [
        "import shutil\n",
        "\n",
        "def compress_folder(folder_path, output_path):\n",
        "  shutil.make_archive(output_path, 'zip', folder_path)\n",
        "\n",
        "# 이미지 저장 폴더 압축\n",
        "folder_path = \"images\"\n",
        "output_path = \"images\"\n",
        "compress_folder(folder_path, output_path)\n"
      ],
      "metadata": {
        "id": "X759O2ag8Oew"
      },
      "execution_count": 8,
      "outputs": []
    },
    {
      "cell_type": "code",
      "source": [
        "keyword = \"핫식스 더킹 러쉬\" # 이미지 검색 키워드\n",
        "\n",
        "num_images = 30 # 다운로드할 이미지 수\n",
        "\n",
        "file_name = \"핫식스 더킹 러쉬\" # 파일 이름"
      ],
      "metadata": {
        "id": "w6mIw0PK8-qE"
      },
      "execution_count": 11,
      "outputs": []
    },
    {
      "cell_type": "code",
      "source": [
        "download_images(keyword, num_images, file_name)"
      ],
      "metadata": {
        "colab": {
          "base_uri": "https://localhost:8080/"
        },
        "id": "ji6iPNdq9N1W",
        "outputId": "c6f4e6a8-a14a-441e-c144-64f404811079"
      },
      "execution_count": 12,
      "outputs": [
        {
          "output_type": "stream",
          "name": "stdout",
          "text": [
            "[%] Downloading Images to /content/images/핫식스 더킹 러쉬\n",
            "\n",
            "\n",
            "[!!]Indexing page: 1\n",
            "\n",
            "[%] Indexed 30 Images on Page 1.\n",
            "\n",
            "===============================================\n",
            "\n",
            "[%] Downloading Image #1 from http://th3.tmon.kr/thumbs/image/256/698/d1b/8a6befb1d_700x700_95_FIT.jpg\n",
            "[%] File Downloaded !\n",
            "\n",
            "[%] Downloading Image #2 from http://th2.tmon.kr/thumbs/image/bb9/3cd/220/55a7856b3_700x700_95_FIT.jpg\n",
            "[%] File Downloaded !\n",
            "\n",
            "[%] Downloading Image #3 from http://ai.esmplus.com/coffeemall/goods/LT0155.jpg\n",
            "[%] File Downloaded !\n",
            "\n",
            "[%] Downloading Image #4 from https://eomisae.co.kr/files/attach/images/2540/300/996/072/8a2877360a50ab6f3b70f86787b458cf.jpg\n",
            "[%] File Downloaded !\n",
            "\n",
            "[%] Downloading Image #5 from http://gdimg.gmarket.co.kr/2464267567/still/600?ver=1654234445\n",
            "[%] File Downloaded !\n",
            "\n",
            "[%] Downloading Image #6 from https://trendhunterb2b.s3.ap-northeast-2.amazonaws.com/shop/products/202307/1690335007-핫식스 더킹 355ml 크러쉬피치%2B러쉬%2B제로%2B포스 12캔씩 총 48캔_제품.jpg\n",
            "[!] Issue getting: https://trendhunterb2b.s3.ap-northeast-2.amazonaws.com/shop/products/202307/1690335007-핫식스 더킹 355ml 크러쉬피치%2B러쉬%2B제로%2B포스 12캔씩 총 48캔_제품.jpg\n",
            "[!] Error:: URL can't contain control characters. '/shop/products/202307/1690335007-핫식스 더킹 355ml 크러쉬피치%2B러쉬%2B제로%2B포스 12캔씩 총 48캔_제품.jpg' (found at least ' ')\n",
            "[%] Downloading Image #6 from https://image.homeplus.kr/td/5847d986-442e-40f4-85ac-ed03777138df\n",
            "[%] File Downloaded !\n",
            "\n",
            "[%] Downloading Image #7 from http://th4.tmon.kr/thumbs/image/32a/201/858/ce9f3722d_700x700_95_FIT.jpg\n",
            "[%] File Downloaded !\n",
            "\n",
            "[%] Downloading Image #8 from https://shopping-phinf.pstatic.net/main_8180433/81804338160.jpg\n",
            "[%] File Downloaded !\n",
            "\n",
            "[%] Downloading Image #9 from http://gdimg.gmarket.co.kr/2327500171/still/600?ver=1641434267\n",
            "[%] File Downloaded !\n",
            "\n",
            "[%] Downloading Image #10 from https://static.megamart.com/product/image/1315/13150921/13150921_1_960.jpg\n",
            "[%] File Downloaded !\n",
            "\n",
            "[%] Downloading Image #11 from http://img1.tmon.kr/cdn4/deals/2022/06/13/10021279854/10021279854_front_1a42c76cd0.jpg\n",
            "[%] File Downloaded !\n",
            "\n",
            "[%] Downloading Image #12 from https://wooridle.co.kr/data/goods/42/2023/04/_tmp_b12cb777f8e1a5ec9bdd48eb12f10acf9205view.jpg\n",
            "[%] File Downloaded !\n",
            "\n",
            "[%] Downloading Image #13 from http://img2.tmon.kr/cdn4/deals/2022/07/07/8564516554/8564516554_intro_eHZucZk5MU.jpg\n",
            "[%] File Downloaded !\n",
            "\n",
            "[%] Downloading Image #14 from https://img3.tmon.kr/cdn4/deals/2023/07/18/21464393554/front_sub1_fae84_ysgka.jpg\n",
            "[%] File Downloaded !\n",
            "\n",
            "[%] Downloading Image #15 from https://image.homeplus.kr/td/a063faff-094a-41ed-ba9a-c11c5f4a80b8\n",
            "[%] File Downloaded !\n",
            "\n",
            "[%] Downloading Image #16 from https://static.megamart.com/product/image/1315/13150921/13150921_6_960.jpg\n",
            "[%] File Downloaded !\n",
            "\n",
            "[%] Downloading Image #17 from https://image.homeplus.kr/td/56b697cc-2f90-465e-9063-b3ac6e82c816\n",
            "[%] File Downloaded !\n",
            "\n",
            "[%] Downloading Image #18 from https://image.fmkorea.com/files/attach/new2/20220906/1196365581/1646616023/4994859373/b59e08db6084eb50652956c7e29fbf37.jpg\n",
            "[%] File Downloaded !\n",
            "\n",
            "[%] Downloading Image #19 from https://cdn.newspost.kr/news/photo/202306/108574_111284_538.jpg\n",
            "[%] File Downloaded !\n",
            "\n",
            "[%] Downloading Image #20 from https://image.homeplus.kr/td/36279bec-5747-4379-acd3-5cc6c3fc6b42\n",
            "[%] File Downloaded !\n",
            "\n",
            "[%] Downloading Image #21 from https://image.enuri.info/webimage_300/10058400000/10058490000/10058494020.jpg\n",
            "[%] File Downloaded !\n",
            "\n",
            "[%] Downloading Image #22 from https://image.homeplus.kr/td/c34e58ee-7adf-496b-8be0-bf5926209d52\n",
            "[%] File Downloaded !\n",
            "\n",
            "[%] Downloading Image #23 from https://gi.esmplus.com/agnesey77/뚱캔/핫식스더킹5종B.png\n",
            "[!] Issue getting: https://gi.esmplus.com/agnesey77/뚱캔/핫식스더킹5종B.png\n",
            "[!] Error:: 'ascii' codec can't encode characters in position 15-16: ordinal not in range(128)\n",
            "[%] Downloading Image #23 from https://cdn.ppomppu.co.kr/zboard/data3/2022/0907/20220907010131_bEfT9o5CKx.png\n",
            "[%] File Downloaded !\n",
            "\n",
            "[%] Downloading Image #24 from https://image.homeplus.kr/td/a8728e00-1128-4984-b6a2-84ff1986996f\n",
            "[%] File Downloaded !\n",
            "\n",
            "[%] Downloading Image #25 from https://image.homeplus.kr/td/7d6e480c-7b8c-4368-99e9-23e3822731a6\n",
            "[%] File Downloaded !\n",
            "\n",
            "[%] Downloading Image #26 from https://upload3.inven.co.kr/upload/2021/09/03/bbs/i13994256760.jpg\n",
            "[%] File Downloaded !\n",
            "\n",
            "[%] Downloading Image #27 from https://www.fetv.co.kr/data/photos/20220623/art_16547341521645_3fd821.jpg\n",
            "[%] File Downloaded !\n",
            "\n",
            "[%] Downloading Image #28 from http://image.auction.co.kr/itemimage/23/2c/4d/232c4d9ae1.jpg\n",
            "[%] File Downloaded !\n",
            "\n",
            "\n",
            "\n",
            "[!!]Indexing page: 2\n",
            "\n",
            "[%] No more images are available\n",
            "\n",
            "\n",
            "[%] Done. Downloaded 28 images.\n"
          ]
        }
      ]
    },
    {
      "cell_type": "code",
      "source": [
        "import shutil\n",
        "\n",
        "def compress_folder(folder_path, output_path):\n",
        "  shutil.make_archive(output_path, 'zip', folder_path)\n",
        "\n",
        "# 이미지 저장 폴더 압축\n",
        "folder_path = \"images\"\n",
        "output_path = \"images\"\n",
        "compress_folder(folder_path, output_path)"
      ],
      "metadata": {
        "id": "8BcgQpDf-lxx"
      },
      "execution_count": 21,
      "outputs": []
    },
    {
      "cell_type": "code",
      "source": [
        "keyword = \"핫식스 더킹 펀치\" # 이미지 검색 키워드\n",
        "\n",
        "num_images = 30 # 다운로드할 이미지 수\n",
        "\n",
        "file_name = \"핫식스 더킹 펀치\" # 파일 이름"
      ],
      "metadata": {
        "id": "_rvxhped9R1u"
      },
      "execution_count": 13,
      "outputs": []
    },
    {
      "cell_type": "code",
      "source": [
        "download_images(keyword, num_images, file_name) # 이미지 다운로드"
      ],
      "metadata": {
        "colab": {
          "base_uri": "https://localhost:8080/"
        },
        "id": "vRsFh2jK9f2g",
        "outputId": "844dcb5a-cb60-4e7c-ccb0-1f408d781ee9"
      },
      "execution_count": 14,
      "outputs": [
        {
          "output_type": "stream",
          "name": "stdout",
          "text": [
            "[%] Downloading Images to /content/images/핫식스 더킹 펀치\n",
            "\n",
            "\n",
            "[!!]Indexing page: 1\n",
            "\n",
            "[%] Indexed 30 Images on Page 1.\n",
            "\n",
            "===============================================\n",
            "\n",
            "[%] Downloading Image #1 from http://th3.tmon.kr/thumbs/image/256/698/d1b/8a6befb1d_700x700_95_FIT.jpg\n",
            "[%] File Downloaded !\n",
            "\n",
            "[%] Downloading Image #2 from https://image.homeplus.kr/td/56b697cc-2f90-465e-9063-b3ac6e82c816\n",
            "[%] File Downloaded !\n",
            "\n",
            "[%] Downloading Image #3 from http://gdimg.gmarket.co.kr/2327500171/still/600?ver=1641434267\n",
            "[%] File Downloaded !\n",
            "\n",
            "[%] Downloading Image #4 from http://th4.tmon.kr/thumbs/image/32a/201/858/ce9f3722d_700x700_95_FIT.jpg\n",
            "[%] File Downloaded !\n",
            "\n",
            "[%] Downloading Image #5 from https://www.city.kr/files/attach/images/16532954/083/751/029/5a9b5030fd5aa0e260d121d6588f7a1d.png\n",
            "[!] Issue getting: https://www.city.kr/files/attach/images/16532954/083/751/029/5a9b5030fd5aa0e260d121d6588f7a1d.png\n",
            "[!] Error:: HTTP Error 404: Not Found\n",
            "[%] Downloading Image #5 from http://th1.tmon.kr/thumbs/image/e8d/365/030/9677436ec_700x700_95_FIT.jpg\n",
            "[%] File Downloaded !\n",
            "\n",
            "[%] Downloading Image #6 from https://shopping-phinf.pstatic.net/main_8180433/81804338160.jpg\n",
            "[%] File Downloaded !\n",
            "\n",
            "[%] Downloading Image #7 from https://static.megamart.com/product/image/1315/13150921/13150921_1_960.jpg\n",
            "[%] File Downloaded !\n",
            "\n",
            "[%] Downloading Image #8 from https://static.megamart.com/product/image/1315/13150921/13150921_6_960.jpg\n",
            "[%] File Downloaded !\n",
            "\n",
            "[%] Downloading Image #9 from https://thumbnail7.coupangcdn.com/thumbnails/remote/q89/image/vendor_inventory/e711/c6b840597698449210b7c2fc2c337a6b7d3459732ca96d4ec3e7f4d94c9e.jpg\n",
            "[%] File Downloaded !\n",
            "\n",
            "[%] Downloading Image #10 from http://th2.tmon.kr/thumbs/image/bb9/3cd/220/55a7856b3_700x700_95_FIT.jpg\n",
            "[%] File Downloaded !\n",
            "\n",
            "[%] Downloading Image #11 from https://thumbnail10.coupangcdn.com/thumbnails/remote/q89/image/vendor_inventory/dab4/5d52e1d1d7c675be82c8e3f8a586f2b76d13f0895709029f9f58172e2cd8.png\n",
            "[%] File Downloaded !\n",
            "\n",
            "[%] Downloading Image #12 from http://img2.tmon.kr/cdn4/deals/2022/07/07/8564516554/8564516554_intro_eHZucZk5MU.jpg\n",
            "[%] File Downloaded !\n",
            "\n",
            "[%] Downloading Image #13 from https://eomisae.co.kr/files/attach/images/2540/300/996/072/8a2877360a50ab6f3b70f86787b458cf.jpg\n",
            "[%] File Downloaded !\n",
            "\n",
            "[%] Downloading Image #14 from https://image.fmkorea.com/files/attach/new2/20220906/1196365581/1646616023/4994859373/b59e08db6084eb50652956c7e29fbf37.jpg\n",
            "[%] File Downloaded !\n",
            "\n",
            "[%] Downloading Image #15 from https://cdn.newspost.kr/news/photo/202306/108574_111284_538.jpg\n",
            "[%] File Downloaded !\n",
            "\n",
            "[%] Downloading Image #16 from https://thumbnail10.coupangcdn.com/thumbnails/remote/q89/image/vendor_inventory/7b28/ebfe655b9ae7d35e146e26f81fd42d49fec6669785bf90e853b8295bdc5e.jpg\n",
            "[%] File Downloaded !\n",
            "\n",
            "[%] Downloading Image #17 from https://image.homeplus.kr/td/36279bec-5747-4379-acd3-5cc6c3fc6b42\n",
            "[%] File Downloaded !\n",
            "\n",
            "[%] Downloading Image #18 from http://gdimg.gmarket.co.kr/2135845379/still/600?ver=1659357182\n",
            "[%] File Downloaded !\n",
            "\n",
            "[%] Downloading Image #19 from https://image.homeplus.kr/td/0f45abd2-035f-48b5-8fcd-a463bdef4ecc\n",
            "[%] File Downloaded !\n",
            "\n",
            "[%] Downloading Image #20 from https://thumbnail8.coupangcdn.com/thumbnails/remote/700x700ex/image/vendor_inventory/fdd6/f857173b02e858d19fae9fda96e01607e26f789b9011478ea951977b0aae.jpg\n",
            "[%] File Downloaded !\n",
            "\n",
            "[%] Downloading Image #21 from https://gred.s3.ap-northeast-2.amazonaws.com/vendor/1312/images/37_6181982513_r.JPG\n",
            "[%] File Downloaded !\n",
            "\n",
            "[%] Downloading Image #22 from https://thumbnail10.coupangcdn.com/thumbnails/remote/q89/image/vendor_inventory/8a61/eb4514840c7b8a6537a3e1cdc402e3feb4188a2237cb31e8d26ea88a0167.jpg\n",
            "[%] File Downloaded !\n",
            "\n",
            "[%] Downloading Image #23 from https://thumbnail7.coupangcdn.com/thumbnails/remote/700x700ex/image/vendor_inventory/8b47/c5e91f4448fc17d0fe1f804a70ec6f0d3294535b5fcd9de83abd077518c8.jpg\n",
            "[%] File Downloaded !\n",
            "\n",
            "[%] Downloading Image #24 from http://gdimg.gmarket.co.kr/2464267567/still/600?ver=1654234445\n",
            "[%] File Downloaded !\n",
            "\n",
            "[%] Downloading Image #25 from http://gdimg.gmarket.co.kr/2373455109/still/600?ver=1646177970\n",
            "[%] File Downloaded !\n",
            "\n",
            "[%] Downloading Image #26 from https://simage.lottechilsung.co.kr/goods/31/13/31/25/17218_COL_120_590.jpg\n",
            "[%] File Downloaded !\n",
            "\n",
            "[%] Downloading Image #27 from https://thumbnail7.coupangcdn.com/thumbnails/remote/q89/image/vendor_inventory/22f8/c87619d3515acfaaedc97025f070e0e10771fe89dffdc98dc32fd9dfc64b.jpg\n",
            "[%] File Downloaded !\n",
            "\n",
            "[%] Downloading Image #28 from http://image.enuri.info/webimage_300/4470500000/4470500000/4470505149.jpg\n",
            "[%] File Downloaded !\n",
            "\n",
            "[%] Downloading Image #29 from http://company.lottechilsung.co.kr/common/images/product_view0106_bh6.jpg\n",
            "[%] File Downloaded !\n",
            "\n",
            "\n",
            "\n",
            "[!!]Indexing page: 2\n",
            "\n",
            "[%] Indexed 35 Images on Page 2.\n",
            "\n",
            "===============================================\n",
            "\n",
            "[%] Downloading Image #30 from https://thumbnail10.coupangcdn.com/thumbnails/remote/q89/image/vendor_inventory/154a/9e83523b984367f12d58e1895420f2cf6f315872f47642492f746ec2c083.jpg\n",
            "[%] File Downloaded !\n",
            "\n",
            "\n",
            "\n",
            "[%] Done. Downloaded 30 images.\n"
          ]
        }
      ]
    },
    {
      "cell_type": "code",
      "source": [
        "import shutil\n",
        "\n",
        "def compress_folder(folder_path, output_path):\n",
        "  shutil.make_archive(output_path, 'zip', folder_path)\n",
        "\n",
        "# 이미지 저장 폴더 압축\n",
        "folder_path = \"images\"\n",
        "output_path = \"images\"\n",
        "compress_folder(folder_path, output_path)"
      ],
      "metadata": {
        "id": "yypd5xAb-hIq"
      },
      "execution_count": 20,
      "outputs": []
    },
    {
      "cell_type": "code",
      "source": [
        "keyword = \"핫식스 더킹 피치\" # 이미지 검색 키워드\n",
        "\n",
        "num_images = 30 # 다운로드할 이미지 수\n",
        "\n",
        "file_name = \"핫식스 더킹 피치\" # 파일 이름"
      ],
      "metadata": {
        "id": "PfB9c27t9iqS"
      },
      "execution_count": 15,
      "outputs": []
    },
    {
      "cell_type": "code",
      "source": [
        "download_images(keyword, num_images, file_name) # 이미지 다운로드"
      ],
      "metadata": {
        "colab": {
          "base_uri": "https://localhost:8080/"
        },
        "id": "VzgvABsq9nfV",
        "outputId": "ab2939fa-7888-4005-90fd-16d3e957a4de"
      },
      "execution_count": 16,
      "outputs": [
        {
          "output_type": "stream",
          "name": "stdout",
          "text": [
            "[%] Downloading Images to /content/images/핫식스 더킹 피치\n",
            "\n",
            "\n",
            "[!!]Indexing page: 1\n",
            "\n",
            "[%] No more images are available\n",
            "\n",
            "\n",
            "[%] Done. Downloaded 0 images.\n"
          ]
        }
      ]
    },
    {
      "cell_type": "code",
      "source": [
        "keyword = \"핫식스 더킹 포도\" # 이미지 검색 키워드\n",
        "\n",
        "num_images = 30 # 다운로드할 이미지 수\n",
        "\n",
        "file_name = \"핫식스 더킹 포도\" # 파일 이름"
      ],
      "metadata": {
        "id": "UGdu3o8v9-Zj"
      },
      "execution_count": 17,
      "outputs": []
    },
    {
      "cell_type": "code",
      "source": [
        "download_images(keyword, num_images, file_name) # 이미지 다운로드"
      ],
      "metadata": {
        "colab": {
          "base_uri": "https://localhost:8080/"
        },
        "id": "o53esjcQ-Bz-",
        "outputId": "dc7562bb-04ff-461e-f2bd-a50bb09654d5"
      },
      "execution_count": 18,
      "outputs": [
        {
          "output_type": "stream",
          "name": "stdout",
          "text": [
            "[%] Downloading Images to /content/images/핫식스 더킹 포도\n",
            "\n",
            "\n",
            "[!!]Indexing page: 1\n",
            "\n",
            "[%] Indexed 30 Images on Page 1.\n",
            "\n",
            "===============================================\n",
            "\n",
            "[%] Downloading Image #1 from http://gdimg.gmarket.co.kr/2327500171/still/600?ver=1641434267\n",
            "[%] File Downloaded !\n",
            "\n",
            "[%] Downloading Image #2 from http://th3.tmon.kr/thumbs/image/256/698/d1b/8a6befb1d_700x700_95_FIT.jpg\n",
            "[%] File Downloaded !\n",
            "\n",
            "[%] Downloading Image #3 from http://th1.tmon.kr/thumbs/image/e49/4d7/974/5c1a6a7a3_700x700_95_FIT.jpg\n",
            "[%] File Downloaded !\n",
            "\n",
            "[%] Downloading Image #4 from http://www.finomy.com/news/photo/202305/129961_107015_1155.jpg\n",
            "[%] File Downloaded !\n",
            "\n",
            "[%] Downloading Image #5 from https://shopping-phinf.pstatic.net/main_8180433/81804338160.jpg\n",
            "[%] File Downloaded !\n",
            "\n",
            "[%] Downloading Image #6 from https://static.megamart.com/product/image/1315/13150921/13150921_1_960.jpg\n",
            "[%] File Downloaded !\n",
            "\n",
            "[%] Downloading Image #7 from https://static.megamart.com/product/image/1315/13150921/13150921_6_960.jpg\n",
            "[%] File Downloaded !\n",
            "\n",
            "[%] Downloading Image #8 from https://img.eomisae.co.kr/files/attach/images/2540/300/996/072/8a2877360a50ab6f3b70f86787b458cf.jpg\n",
            "[%] File Downloaded !\n",
            "\n",
            "[%] Downloading Image #9 from http://res.heraldm.com/content/image/2022/06/09/20220609000260_0.jpg\n",
            "[%] File Downloaded !\n",
            "\n",
            "[%] Downloading Image #10 from http://th2.tmon.kr/thumbs/image/bb9/3cd/220/55a7856b3_700x700_95_FIT.jpg\n",
            "[%] File Downloaded !\n",
            "\n",
            "[%] Downloading Image #11 from https://image.homeplus.kr/td/56b697cc-2f90-465e-9063-b3ac6e82c816\n",
            "[%] File Downloaded !\n",
            "\n",
            "[%] Downloading Image #12 from https://image.homeplus.kr/td/36279bec-5747-4379-acd3-5cc6c3fc6b42\n",
            "[%] File Downloaded !\n",
            "\n",
            "[%] Downloading Image #13 from https://cdn.4th.kr/news/photo/202401/2056115_130131_057.jpg\n",
            "[%] File Downloaded !\n",
            "\n",
            "[%] Downloading Image #14 from http://gdimg.gmarket.co.kr/2464267567/still/600?ver=1654234445\n",
            "[%] File Downloaded !\n",
            "\n",
            "[%] Downloading Image #15 from http://gdimg.gmarket.co.kr/2417813568/still/600?ver=1657272680\n",
            "[%] File Downloaded !\n",
            "\n",
            "[%] Downloading Image #16 from https://cdn.emetro.co.kr/data2/content/image/2022/06/09/.cache/512/20220609500257.jpg\n",
            "[%] File Downloaded !\n",
            "\n",
            "[%] Downloading Image #17 from http://cfile220.uf.daum.net/image/275B674F55FA5D722F5DA3\n",
            "[%] File Downloaded !\n",
            "\n",
            "[%] Downloading Image #18 from https://img4.tmon.kr/cdn4/deals/2023/06/30/7733609982/7733609982_front_JvDHAHoWUq.jpg\n",
            "[%] File Downloaded !\n",
            "\n",
            "[%] Downloading Image #19 from https://gi.esmplus.com/agnesey77/뚱캔/핫식스더킹5종B.png\n",
            "[!] Issue getting: https://gi.esmplus.com/agnesey77/뚱캔/핫식스더킹5종B.png\n",
            "[!] Error:: 'ascii' codec can't encode characters in position 15-16: ordinal not in range(128)\n",
            "[%] Downloading Image #19 from http://ai.esmplus.com/coffeemall/goods/LT0155.jpg\n",
            "[%] File Downloaded !\n",
            "\n",
            "[%] Downloading Image #20 from https://blog.kakaocdn.net/dn/bxYhG4/btqIhZY6hyu/S5kkcMTdpQYZj2eosr1HMK/img.jpg\n",
            "[%] File Downloaded !\n",
            "\n",
            "[%] Downloading Image #21 from https://image.homeplus.kr/td/d858a299-537d-4c0f-bd22-247f70d7e72e\n",
            "[%] File Downloaded !\n",
            "\n",
            "[%] Downloading Image #22 from https://image.homeplus.kr/td/10d6e981-d027-49e3-9985-6b804d1fb3d3\n",
            "[%] File Downloaded !\n",
            "\n",
            "[%] Downloading Image #23 from https://thumbnail10.coupangcdn.com/thumbnails/remote/q89/image/vendor_inventory/dab4/5d52e1d1d7c675be82c8e3f8a586f2b76d13f0895709029f9f58172e2cd8.png\n",
            "[%] File Downloaded !\n",
            "\n",
            "[%] Downloading Image #24 from https://image.homeplus.kr/td/7d6e480c-7b8c-4368-99e9-23e3822731a6\n",
            "[%] File Downloaded !\n",
            "\n",
            "[%] Downloading Image #25 from http://gi.esmplus.com/agnesey77/슬릭캔/핫식스더킹러쉬B.png\n",
            "[!] Issue getting: http://gi.esmplus.com/agnesey77/슬릭캔/핫식스더킹러쉬B.png\n",
            "[!] Error:: 'ascii' codec can't encode characters in position 15-17: ordinal not in range(128)\n",
            "[%] Downloading Image #25 from https://image.fmkorea.com/files/attach/new2/20220718/1196365581/2679894278/4829212695/eb6524325ed70525bcb75e36b96723d4.jpg\n",
            "[%] File Downloaded !\n",
            "\n",
            "[%] Downloading Image #26 from https://thumbnail10.coupangcdn.com/thumbnails/remote/q89/image/vendor_inventory/7b28/ebfe655b9ae7d35e146e26f81fd42d49fec6669785bf90e853b8295bdc5e.jpg\n",
            "[%] File Downloaded !\n",
            "\n",
            "[%] Downloading Image #27 from https://www.neolabo.co.kr/files/attach/images/161/832/789/002/3252159f715ca6e92604fa0ee329b5df.jpg\n",
            "[%] File Downloaded !\n",
            "\n",
            "[%] Downloading Image #28 from http://gdimg.gmarket.co.kr/2135845379/still/600?ver=1659357182\n",
            "[%] File Downloaded !\n",
            "\n",
            "\n",
            "\n",
            "[!!]Indexing page: 2\n",
            "\n",
            "[%] Indexed 35 Images on Page 2.\n",
            "\n",
            "===============================================\n",
            "\n",
            "[%] Downloading Image #29 from https://thumbnail10.coupangcdn.com/thumbnails/remote/q89/image/vendor_inventory/8a61/eb4514840c7b8a6537a3e1cdc402e3feb4188a2237cb31e8d26ea88a0167.jpg\n",
            "[%] File Downloaded !\n",
            "\n",
            "[%] Downloading Image #30 from https://trendhunterb2b.s3.ap-northeast-2.amazonaws.com/shop/products/202307/1690335007-핫식스 더킹 355ml 크러쉬피치%2B러쉬%2B제로%2B포스 12캔씩 총 48캔_제품.jpg\n",
            "[!] Issue getting: https://trendhunterb2b.s3.ap-northeast-2.amazonaws.com/shop/products/202307/1690335007-핫식스 더킹 355ml 크러쉬피치%2B러쉬%2B제로%2B포스 12캔씩 총 48캔_제품.jpg\n",
            "[!] Error:: URL can't contain control characters. '/shop/products/202307/1690335007-핫식스 더킹 355ml 크러쉬피치%2B러쉬%2B제로%2B포스 12캔씩 총 48캔_제품.jpg' (found at least ' ')\n",
            "[%] Downloading Image #30 from http://gdimg.gmarket.co.kr/2373455109/still/600?ver=1646177970\n",
            "[%] File Downloaded !\n",
            "\n",
            "\n",
            "\n",
            "[%] Done. Downloaded 30 images.\n"
          ]
        }
      ]
    },
    {
      "cell_type": "code",
      "source": [
        "import shutil\n",
        "\n",
        "def compress_folder(folder_path, output_path):\n",
        "  shutil.make_archive(output_path, 'zip', folder_path)\n",
        "\n",
        "# 이미지 저장 폴더 압축\n",
        "folder_path = \"images\"\n",
        "output_path = \"images\"\n",
        "compress_folder(folder_path, output_path)\n",
        "\n"
      ],
      "metadata": {
        "id": "yVAG90kD-M2X"
      },
      "execution_count": 19,
      "outputs": []
    }
  ]
}