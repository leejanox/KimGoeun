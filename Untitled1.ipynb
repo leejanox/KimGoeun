{
 "cells": [
  {
   "cell_type": "code",
   "execution_count": 1,
   "id": "10ba8e8e-3c7b-4fc0-9735-8f4e777d834d",
   "metadata": {},
   "outputs": [
    {
     "data": {
      "text/plain": [
       "1"
      ]
     },
     "execution_count": 1,
     "metadata": {},
     "output_type": "execute_result"
    }
   ],
   "source": [
    "x"
   ]
  },
  {
   "cell_type": "code",
   "execution_count": 4,
   "id": "7cfc64c0-7718-4cf0-818c-90010bd7e6ad",
   "metadata": {},
   "outputs": [
    {
     "data": {
      "text/plain": [
       "2"
      ]
     },
     "execution_count": 4,
     "metadata": {},
     "output_type": "execute_result"
    }
   ],
   "source": [
    "5//2 #나누고 몫을 구하는 연산"
   ]
  },
  {
   "cell_type": "code",
   "execution_count": 22,
   "id": "bf44a0b0-a2b9-4775-b8a8-9fa0e04da92b",
   "metadata": {},
   "outputs": [
    {
     "name": "stdout",
     "output_type": "stream",
     "text": [
      "1이 아님\n"
     ]
    }
   ],
   "source": [
    "a = 5\n",
    "if a != 1:\n",
    "    print(\"1이 아님\") #비교연산자 등호(==), 같지 않음(!=)"
   ]
  },
  {
   "cell_type": "code",
   "execution_count": 19,
   "id": "d1bf3526-2b66-4405-8672-be97740ac5b4",
   "metadata": {},
   "outputs": [
    {
     "name": "stdout",
     "output_type": "stream",
     "text": [
      "10\n"
     ]
    }
   ],
   "source": [
    "a = 1\n",
    "a = a*10\n",
    "print(a)"
   ]
  },
  {
   "cell_type": "code",
   "execution_count": 32,
   "id": "9cab36da-400d-4f5b-82f3-4f8a67815361",
   "metadata": {},
   "outputs": [
    {
     "name": "stdout",
     "output_type": "stream",
     "text": [
      "10\n"
     ]
    }
   ],
   "source": [
    "a = 1\n",
    "a *= 10\n",
    "print(a)"
   ]
  },
  {
   "cell_type": "code",
   "execution_count": 35,
   "id": "7d340d4c-4283-44f5-a683-c078c3e4afb5",
   "metadata": {},
   "outputs": [
    {
     "name": "stdout",
     "output_type": "stream",
     "text": [
      "Yes\n"
     ]
    }
   ],
   "source": [
    "x = True\n",
    "y = False\n",
    "\n",
    "if x or y:\n",
    "    print(\"Yes\")\n",
    "else:\n",
    "    print(\"No\")"
   ]
  },
  {
   "cell_type": "code",
   "execution_count": 36,
   "id": "1e112b9e-a85a-49dd-b358-d272861b9ec4",
   "metadata": {},
   "outputs": [
    {
     "name": "stdout",
     "output_type": "stream",
     "text": [
      "8\n",
      "3\n"
     ]
    }
   ],
   "source": [
    "a = 8\n",
    "b = 11\n",
    "c = a & b\n",
    "d = a ^ b\n",
    "\n",
    "print(c)\n",
    "print(d)"
   ]
  },
  {
   "cell_type": "code",
   "execution_count": 39,
   "id": "e8e9106c-9383-4f1b-86f2-f68ec33e913a",
   "metadata": {},
   "outputs": [
    {
     "name": "stdout",
     "output_type": "stream",
     "text": [
      "True\n"
     ]
    }
   ],
   "source": [
    "a = [1,2,3,4]\n",
    "b = 3 in a\n",
    "print(b)"
   ]
  },
  {
   "cell_type": "code",
   "execution_count": 40,
   "id": "e2ec09f4-5151-4534-9bd0-c0f281b531e0",
   "metadata": {},
   "outputs": [
    {
     "name": "stdout",
     "output_type": "stream",
     "text": [
      "True\n"
     ]
    }
   ],
   "source": [
    "a = \"ABC\"\n",
    "b = a\n",
    "print(a is b)"
   ]
  },
  {
   "cell_type": "code",
   "execution_count": 41,
   "id": "21507509-daa6-429c-b8d8-738031a4c02d",
   "metadata": {},
   "outputs": [
    {
     "name": "stdout",
     "output_type": "stream",
     "text": [
      "아리랑\n",
      "아리랑\n",
      "아라리요\n",
      "\n"
     ]
    }
   ],
   "source": [
    "s = '''아리랑\n",
    "아리랑\n",
    "아라리요\n",
    "'''\n",
    "print(s)"
   ]
  },
  {
   "cell_type": "code",
   "execution_count": 43,
   "id": "88c29157-5970-4f9f-aa67-6a03f89849f4",
   "metadata": {},
   "outputs": [
    {
     "name": "stdout",
     "output_type": "stream",
     "text": [
      "아리랑\n",
      "아리랑\n",
      "아라리요\n"
     ]
    }
   ],
   "source": [
    "s = '아리랑\\n아리랑\\n아라리요'\n",
    "print(s)"
   ]
  },
  {
   "cell_type": "code",
   "execution_count": 45,
   "id": "451e0d5d-d1b5-46e4-933a-36b0bffa0df1",
   "metadata": {},
   "outputs": [
    {
     "name": "stdout",
     "output_type": "stream",
     "text": [
      "이름: 김유신 나이: 65\n"
     ]
    }
   ],
   "source": [
    "p = \"이름: %s 나이: %d\" % (\"김유신\", 65)\n",
    "print(p)"
   ]
  },
  {
   "cell_type": "code",
   "execution_count": 51,
   "id": "b2cfc7bb-1b4d-4332-bed7-ca69f9d3bb8a",
   "metadata": {},
   "outputs": [
    {
     "name": "stdout",
     "output_type": "stream",
     "text": [
      "x = 3.142, y = 3.14\n"
     ]
    }
   ],
   "source": [
    "p = \"x = %0.3f, y = %0.2f\" % (3.141592, 3.141592)\n",
    "print(p)"
   ]
  },
  {
   "cell_type": "code",
   "execution_count": null,
   "id": "2800fd38-bf3f-45cd-b3ee-28b6564bbe20",
   "metadata": {},
   "outputs": [],
   "source": []
  }
 ],
 "metadata": {
  "kernelspec": {
   "display_name": "Python 3 (ipykernel)",
   "language": "python",
   "name": "python3"
  },
  "language_info": {
   "codemirror_mode": {
    "name": "ipython",
    "version": 3
   },
   "file_extension": ".py",
   "mimetype": "text/x-python",
   "name": "python",
   "nbconvert_exporter": "python",
   "pygments_lexer": "ipython3",
   "version": "3.9.13"
  }
 },
 "nbformat": 4,
 "nbformat_minor": 5
}
